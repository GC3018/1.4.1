{
 "cells": [
  {
   "cell_type": "code",
   "execution_count": 1,
   "metadata": {},
   "outputs": [],
   "source": [
    "#3:They would have ben represented by holes in the paper\n",
    "#4: becauses some programs need to work outside of otehrs & or just above others so that others can work\n",
    "#5: Thier would be no way, or atleast not an easy of a way, to organize all our programs to work together \n",
    "#6: Class Name: Axesubplot, Attribute name: My Picture, Method name: set_title()\n",
    "#7: 3 (SELF, my raidous, mycolor)\n",
    "#8: Because it needs to use realityartists which was imporatated as the name fiat\n",
    "#9:#BB7700\n",
    "#10:Size: Diamter of 10   , Color: FF0000\n",
    "#11: Self = Emily, def draw_circle(self, diameter=20, color='#FF0000'), def __init__(self, myRadius=6, myColor='#BB7700')\n",
    "#12:item[1]: Mike, item[3].color: PingPongBall\n",
    "#13: Made a light green circle with a diamiter of 6\n",
    "#14: Made a pingpongball with a diamiter of 6 & it was filled (colored in)\n",
    "#15 The pingpongball has a rim with not no center\n",
    "#16: Different color, different radious\n",
    "#17: It increased the ball's size\n",
    "#18: It causes an error, due to not having a perenthatces\n",
    "#19: Class Name: Ball | Attribute: Bounce, Color | hod:\n",
    "#20:\n",
    "#21:\n",
    "#22:"
   ]
  },
  {
   "cell_type": "code",
   "execution_count": null,
   "metadata": {},
   "outputs": [],
   "source": [
    "#CONCLUSION\n",
    "\n",
    "#1:\n",
    "\n",
    "#2:\n",
    "\n",
    "#3:"
   ]
  }
 ],
 "metadata": {
  "kernelspec": {
   "display_name": "Python 3",
   "language": "python",
   "name": "python3"
  },
  "language_info": {
   "codemirror_mode": {
    "name": "ipython",
    "version": 3
   },
   "file_extension": ".py",
   "mimetype": "text/x-python",
   "name": "python",
   "nbconvert_exporter": "python",
   "pygments_lexer": "ipython3",
   "version": "3.7.4"
  }
 },
 "nbformat": 4,
 "nbformat_minor": 2
}
