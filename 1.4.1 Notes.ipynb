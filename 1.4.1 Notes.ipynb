{
 "cells": [
  {
   "cell_type": "code",
   "execution_count": 1,
   "metadata": {},
   "outputs": [],
   "source": [
    "#Abstraction is when you remove details and generalize to a broader category.\n",
    "#When the part of thew code that jumps in, the next parts  are methods & attributes\n",
    "#Each object is an instance of the class. “Calling a method on an object” \n",
    "##means “executing a procedure using the data of a particular object.\n",
    "#watch out for the \"to many argument error\"\n"
   ]
  },
  {
   "cell_type": "code",
   "execution_count": 3,
   "metadata": {},
   "outputs": [],
   "source": [
    "#Unified Modeling Language (UML)\n",
    "##A standard format for communicating and documenting software design."
   ]
  },
  {
   "cell_type": "code",
   "execution_count": 5,
   "metadata": {},
   "outputs": [],
   "source": [
    "#Programming Paradigm\n",
    "##A way of approaching problems; object-oriented, functional, and imperative paradigms are three major paradigms."
   ]
  }
 ],
 "metadata": {
  "kernelspec": {
   "display_name": "Python 3",
   "language": "python",
   "name": "python3"
  },
  "language_info": {
   "codemirror_mode": {
    "name": "ipython",
    "version": 3
   },
   "file_extension": ".py",
   "mimetype": "text/x-python",
   "name": "python",
   "nbconvert_exporter": "python",
   "pygments_lexer": "ipython3",
   "version": "3.7.4"
  }
 },
 "nbformat": 4,
 "nbformat_minor": 2
}
